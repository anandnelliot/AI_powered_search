{
 "cells": [
  {
   "cell_type": "code",
   "execution_count": 1,
   "id": "7722f381",
   "metadata": {},
   "outputs": [
    {
     "ename": "ImportError",
     "evalue": "attempted relative import with no known parent package",
     "output_type": "error",
     "traceback": [
      "\u001b[1;31m---------------------------------------------------------------------------\u001b[0m",
      "\u001b[1;31mImportError\u001b[0m                               Traceback (most recent call last)",
      "Cell \u001b[1;32mIn[1], line 8\u001b[0m\n\u001b[0;32m      5\u001b[0m \u001b[38;5;28;01mfrom\u001b[39;00m\u001b[38;5;250m \u001b[39m\u001b[38;5;21;01mwhylogs\u001b[39;00m\u001b[38;5;21;01m.\u001b[39;00m\u001b[38;5;21;01mcore\u001b[39;00m\u001b[38;5;250m \u001b[39m\u001b[38;5;28;01mimport\u001b[39;00m DatasetProfileView\n\u001b[0;32m      7\u001b[0m \u001b[38;5;66;03m# Import your drift detector functions (adjust the module path as needed)\u001b[39;00m\n\u001b[1;32m----> 8\u001b[0m \u001b[38;5;28;01mfrom\u001b[39;00m\u001b[38;5;250m \u001b[39m\u001b[38;5;21;01m.\u001b[39;00m\u001b[38;5;21;01m.\u001b[39;00m\u001b[38;5;21;01mutils\u001b[39;00m\u001b[38;5;21;01m.\u001b[39;00m\u001b[38;5;21;01mdata_drift_detector\u001b[39;00m\u001b[38;5;250m \u001b[39m\u001b[38;5;28;01mimport\u001b[39;00m (\n\u001b[0;32m      9\u001b[0m     save_reference_profile,\n\u001b[0;32m     10\u001b[0m     load_reference_profile,\n\u001b[0;32m     11\u001b[0m     check_drift_against_reference\n\u001b[0;32m     12\u001b[0m )\n\u001b[0;32m     14\u001b[0m \u001b[38;5;66;03m# Define the path to your products CSV and the reference profile file.\u001b[39;00m\n\u001b[0;32m     15\u001b[0m CSV_PATH \u001b[38;5;241m=\u001b[39m \u001b[38;5;124mr\u001b[39m\u001b[38;5;124m\"\u001b[39m\u001b[38;5;124mD:\u001b[39m\u001b[38;5;124m\\\u001b[39m\u001b[38;5;124mAnand\u001b[39m\u001b[38;5;124m\\\u001b[39m\u001b[38;5;124mJsearch_ai\u001b[39m\u001b[38;5;124m\\\u001b[39m\u001b[38;5;124mdata\u001b[39m\u001b[38;5;124m\\\u001b[39m\u001b[38;5;124mproducts.csv\u001b[39m\u001b[38;5;124m\"\u001b[39m\n",
      "\u001b[1;31mImportError\u001b[0m: attempted relative import with no known parent package"
     ]
    }
   ],
   "source": [
    "# Import necessary libraries\n",
    "import os\n",
    "import pandas as pd\n",
    "import whylogs\n",
    "from whylogs.core import DatasetProfileView\n",
    "\n",
    "# Import your drift detector functions (adjust the module path as needed)\n",
    "from ..utils.data_drift_detector import (\n",
    "    save_reference_profile,\n",
    "    load_reference_profile,\n",
    "    check_drift_against_reference\n",
    ")\n",
    "\n",
    "# Define the path to your products CSV and the reference profile file.\n",
    "CSV_PATH = r\"D:\\Anand\\Jsearch_ai\\data\\products.csv\"\n",
    "REF_PROFILE_PATH = \"product_reference_profile.bin\"\n"
   ]
  },
  {
   "cell_type": "code",
   "execution_count": 2,
   "id": "ab6f8183",
   "metadata": {},
   "outputs": [],
   "source": [
    "import sys\n",
    "sys.path.append(r\"D:\\Anand\\Jsearch_ai\")\n"
   ]
  },
  {
   "cell_type": "code",
   "execution_count": 3,
   "id": "f80f8ea5",
   "metadata": {},
   "outputs": [],
   "source": [
    "# Import necessary libraries\n",
    "import os\n",
    "import pandas as pd\n",
    "import whylogs\n",
    "from whylogs.core import DatasetProfileView\n",
    "\n",
    "# Import your drift detector functions (adjust the module path as needed)\n",
    "from utils.data_drift_detector import (\n",
    "    save_reference_profile,\n",
    "    load_reference_profile,\n",
    "    check_drift_against_reference\n",
    ")\n",
    "\n",
    "# Define the path to your products CSV and the reference profile file.\n",
    "CSV_PATH = r\"D:\\Anand\\Jsearch_ai\\data\\products.csv\"\n",
    "REF_PROFILE_PATH = \"product_reference_profile.bin\"\n"
   ]
  },
  {
   "cell_type": "code",
   "execution_count": null,
   "id": "5e15eb84",
   "metadata": {},
   "outputs": [],
   "source": []
  },
  {
   "cell_type": "code",
   "execution_count": 6,
   "id": "61d7ad8c",
   "metadata": {},
   "outputs": [
    {
     "name": "stdout",
     "output_type": "stream",
     "text": [
      "Loaded data with 102637 rows and 10 columns.\n"
     ]
    },
    {
     "data": {
      "text/plain": [
       "(   product_id                                 product_name  \\\n",
       " 0           1                        laboratory equipments   \n",
       " 1           2                main distribution boards mdbs   \n",
       " 2           3  motor control centre fixed and drawout type   \n",
       " 3           4       generator control synchronizing panels   \n",
       " 4           5                       street lighting panels   \n",
       " \n",
       "                                          description  \\\n",
       " 0  supply installation and commissioning of labor...   \n",
       " 1  applications protection of whole low voltage e...   \n",
       " 2  applications controlled starting amp speed con...   \n",
       " 3  applications controlling generator operation t...   \n",
       " 4  applications automatic switching of street lig...   \n",
       " \n",
       "                                       category  \\\n",
       " 0  laboratory measuring equipment and supplies   \n",
       " 1         electrical equipment and accessories   \n",
       " 2         electrical equipment and accessories   \n",
       " 3                                          NaN   \n",
       " 4                                          NaN   \n",
       " \n",
       "                                          subcategory  \\\n",
       " 0                laboratory and scientific equipment   \n",
       " 1  switchboards switchgears and motor control cen...   \n",
       " 2  switchboards switchgears and motor control cen...   \n",
       " 3                                                NaN   \n",
       " 4                                                NaN   \n",
       " \n",
       "               subsubcategory                                         supplier  \\\n",
       " 0  crystallography equipment                 business international group llc   \n",
       " 1               switchboards  international electrical industries company llc   \n",
       " 2  motor control centers mcc  international electrical industries company llc   \n",
       " 3                        NaN  international electrical industries company llc   \n",
       " 4                        NaN  international electrical industries company llc   \n",
       " \n",
       "   country   state     city  \n",
       " 0    oman  muscat  bowsher  \n",
       " 1    oman  muscat   rusayl  \n",
       " 2    oman  muscat   rusayl  \n",
       " 3    oman  muscat   rusayl  \n",
       " 4    oman  muscat   rusayl  ,\n",
       " ['product_id',\n",
       "  'product_name',\n",
       "  'description',\n",
       "  'category',\n",
       "  'subcategory',\n",
       "  'subsubcategory',\n",
       "  'supplier',\n",
       "  'country',\n",
       "  'state',\n",
       "  'city'])"
      ]
     },
     "execution_count": 6,
     "metadata": {},
     "output_type": "execute_result"
    }
   ],
   "source": [
    "# Load your product CSV into a DataFrame.\n",
    "df_products = pd.read_csv(CSV_PATH)\n",
    "print(f\"Loaded data with {len(df_products)} rows and {len(df_products.columns)} columns.\")\n",
    "\n",
    "# Display the first few rows and the column names to know what we have.\n",
    "df_products.head(), df_products.columns.tolist()\n"
   ]
  },
  {
   "cell_type": "code",
   "execution_count": 8,
   "id": "c9c4eb44",
   "metadata": {},
   "outputs": [
    {
     "data": {
      "text/plain": [
       "product_id            0\n",
       "product_name          2\n",
       "description          77\n",
       "category          10475\n",
       "subcategory       10475\n",
       "subsubcategory    10475\n",
       "supplier              0\n",
       "country               0\n",
       "state                26\n",
       "city                  0\n",
       "dtype: int64"
      ]
     },
     "execution_count": 8,
     "metadata": {},
     "output_type": "execute_result"
    }
   ],
   "source": [
    "df_products.isnull().sum()"
   ]
  },
  {
   "cell_type": "code",
   "execution_count": 9,
   "id": "f7ceab2c",
   "metadata": {},
   "outputs": [],
   "source": [
    "df_products.fillna(\"Unknown\", inplace=True)\n"
   ]
  },
  {
   "cell_type": "code",
   "execution_count": 10,
   "id": "7c02e752",
   "metadata": {},
   "outputs": [
    {
     "data": {
      "text/plain": [
       "product_id        0\n",
       "product_name      0\n",
       "description       0\n",
       "category          0\n",
       "subcategory       0\n",
       "subsubcategory    0\n",
       "supplier          0\n",
       "country           0\n",
       "state             0\n",
       "city              0\n",
       "dtype: int64"
      ]
     },
     "execution_count": 10,
     "metadata": {},
     "output_type": "execute_result"
    }
   ],
   "source": [
    "df_products.isnull().sum()"
   ]
  },
  {
   "cell_type": "code",
   "execution_count": 11,
   "id": "2c71f7fe",
   "metadata": {},
   "outputs": [
    {
     "name": "stdout",
     "output_type": "stream",
     "text": [
      "Reference profile created and saved.\n"
     ]
    }
   ],
   "source": [
    "# Check if a reference profile file already exists.\n",
    "if not os.path.exists(REF_PROFILE_PATH):\n",
    "    # Create a whylogs profile from your reference data.\n",
    "    profile_ref = whylogs.log(pandas=df_products).profile().view()\n",
    "    # Save the reference profile.\n",
    "    save_reference_profile(profile_ref, REF_PROFILE_PATH)\n",
    "    print(\"Reference profile created and saved.\")\n",
    "else:\n",
    "    # Load the existing reference profile.\n",
    "    profile_ref = load_reference_profile(REF_PROFILE_PATH)\n",
    "    print(\"Reference profile loaded.\")\n"
   ]
  },
  {
   "cell_type": "code",
   "execution_count": 13,
   "id": "56e65935",
   "metadata": {},
   "outputs": [
    {
     "name": "stdout",
     "output_type": "stream",
     "text": [
      "Data copy created.\n"
     ]
    },
    {
     "data": {
      "text/plain": [
       "product_id        0\n",
       "product_name      0\n",
       "description       0\n",
       "category          0\n",
       "subcategory       0\n",
       "subsubcategory    0\n",
       "supplier          0\n",
       "country           0\n",
       "state             0\n",
       "city              0\n",
       "dtype: int64"
      ]
     },
     "execution_count": 13,
     "metadata": {},
     "output_type": "execute_result"
    }
   ],
   "source": [
    "# Step 2: Make a copy of the data without any changes.\n",
    "df_copy = df_products.copy()\n",
    "print(\"Data copy created.\")\n",
    "\n"
   ]
  },
  {
   "cell_type": "code",
   "execution_count": 14,
   "id": "b3b921a0",
   "metadata": {},
   "outputs": [
    {
     "name": "stdout",
     "output_type": "stream",
     "text": [
      "Reference profile created and saved (from unchanged data).\n",
      "New profile created (data is unchanged).\n",
      "\n",
      "Drift Detected: True\n",
      "Drifted Columns: ['subcategory', 'state']\n",
      "Drift Scores:\n",
      "  product_id: {'algorithm': 'ks', 'pvalue': 0.9999981439048787, 'statistic': 0.0012471136139988737, 'thresholds': {'NO_DRIFT': (0.15, 1), 'POSSIBLE_DRIFT': (0.05, 0.15), 'DRIFT': (0, 0.05)}, 'drift_category': 'NO_DRIFT'}\n",
      "  product_name: {'algorithm': 'chi-square', 'pvalue': 1.0, 'statistic': 0.0, 'thresholds': {'NO_DRIFT': (0.15, 1), 'POSSIBLE_DRIFT': (0.05, 0.15), 'DRIFT': (0, 0.05)}, 'drift_category': 'NO_DRIFT'}\n",
      "  description: {'algorithm': 'chi-square', 'pvalue': 1.0, 'statistic': 0.0, 'thresholds': {'NO_DRIFT': (0.15, 1), 'POSSIBLE_DRIFT': (0.05, 0.15), 'DRIFT': (0, 0.05)}, 'drift_category': 'NO_DRIFT'}\n",
      "  category: {'algorithm': 'chi-square', 'pvalue': 1.0, 'statistic': 0.0006222775357809583, 'thresholds': {'NO_DRIFT': (0.15, 1), 'POSSIBLE_DRIFT': (0.05, 0.15), 'DRIFT': (0, 0.05)}, 'drift_category': 'NO_DRIFT'}\n",
      "  subcategory: {'algorithm': 'chi-square', 'pvalue': 0.0, 'statistic': inf, 'thresholds': {'NO_DRIFT': (0.15, 1), 'POSSIBLE_DRIFT': (0.05, 0.15), 'DRIFT': (0, 0.05)}, 'drift_category': 'DRIFT'}\n",
      "  subsubcategory: {'algorithm': 'chi-square', 'pvalue': 1.0, 'statistic': 0.03337716869842842, 'thresholds': {'NO_DRIFT': (0.15, 1), 'POSSIBLE_DRIFT': (0.05, 0.15), 'DRIFT': (0, 0.05)}, 'drift_category': 'NO_DRIFT'}\n",
      "  supplier: {'algorithm': 'chi-square', 'pvalue': 1.0, 'statistic': 0.0200716565183779, 'thresholds': {'NO_DRIFT': (0.15, 1), 'POSSIBLE_DRIFT': (0.05, 0.15), 'DRIFT': (0, 0.05)}, 'drift_category': 'NO_DRIFT'}\n",
      "  country: {'algorithm': 'chi-square', 'pvalue': 1.0, 'statistic': 0.0, 'thresholds': {'NO_DRIFT': (0.15, 1), 'POSSIBLE_DRIFT': (0.05, 0.15), 'DRIFT': (0, 0.05)}, 'drift_category': 'NO_DRIFT'}\n",
      "  state: {'algorithm': 'chi-square', 'pvalue': 0.0, 'statistic': inf, 'thresholds': {'NO_DRIFT': (0.15, 1), 'POSSIBLE_DRIFT': (0.05, 0.15), 'DRIFT': (0, 0.05)}, 'drift_category': 'DRIFT'}\n",
      "  city: {'algorithm': 'chi-square', 'pvalue': 1.0, 'statistic': 0.8150267566585068, 'thresholds': {'NO_DRIFT': (0.15, 1), 'POSSIBLE_DRIFT': (0.05, 0.15), 'DRIFT': (0, 0.05)}, 'drift_category': 'NO_DRIFT'}\n"
     ]
    }
   ],
   "source": [
    "# Step 3: Create a reference profile using the unchanged data copy.\n",
    "profile_ref = whylogs.log(pandas=df_copy).profile().view()\n",
    "save_reference_profile(profile_ref, REF_PROFILE_PATH)\n",
    "print(\"Reference profile created and saved (from unchanged data).\")\n",
    "\n",
    "# Step 4: Compute a new profile from the same unchanged data copy.\n",
    "profile_new = whylogs.log(pandas=df_copy).profile().view()\n",
    "print(\"New profile created (data is unchanged).\")\n",
    "\n",
    "# Step 5: Run the drift detector between the reference and new profile.\n",
    "# Since the data is identical, we expect no drift.\n",
    "drift_detected, drift_scores, drifted_columns = check_drift_against_reference(\n",
    "    new_profile_view=profile_new,\n",
    "    reference_profile_view=profile_ref,\n",
    "    with_thresholds=True  # Use raw differences; set True if thresholds are preferred.\n",
    ")\n",
    "\n",
    "print(\"\\nDrift Detected:\", drift_detected)\n",
    "print(\"Drifted Columns:\", drifted_columns)\n",
    "print(\"Drift Scores:\")\n",
    "for col, metrics in drift_scores.items():\n",
    "    print(f\"  {col}: {metrics}\")"
   ]
  },
  {
   "cell_type": "code",
   "execution_count": 17,
   "id": "686d4d3b",
   "metadata": {},
   "outputs": [
    {
     "name": "stdout",
     "output_type": "stream",
     "text": [
      "New incoming data:\n",
      "Combined data shape: (102639, 10)\n"
     ]
    }
   ],
   "source": [
    "# Create a DataFrame representing new incoming data\n",
    "new_data = {\n",
    "    'product_id': [100001, 100002],\n",
    "    'product_name': ['cutting edge laser equipment', 'quantum sensor module'],\n",
    "    'description': ['innovative technology for precision cutting', 'advanced sensor technology for quantum applications'],\n",
    "    'category': ['advanced laboratory equipment and supplies', 'research and development equipment'],\n",
    "    'subcategory': ['precision laser systems', 'quantum sensor arrays'],\n",
    "    'subsubcategory': ['laser cutting modules', 'quantum sensor modules'],\n",
    "    'supplier': ['new tech innovators llc', 'quantum dynamics inc'],\n",
    "    'country': ['oman', 'oman'],\n",
    "    'state': ['muscat', 'muscat'],\n",
    "    'city': ['muscat', 'muscat']\n",
    "}\n",
    "df_new_data = pd.DataFrame(new_data)\n",
    "print(\"New incoming data:\")\n",
    "df_new_data\n",
    "# Append new incoming data (simulate continuous arrival) to the existing product dataset\n",
    "df_combined = pd.concat([df_products, df_new_data], ignore_index=True)\n",
    "print(f\"Combined data shape: {df_combined.shape}\")\n",
    "\n",
    "# Compute a whylogs profile for the combined (new) data\n",
    "profile_new = whylogs.log(pandas=df_combined).profile().view()\n"
   ]
  },
  {
   "cell_type": "code",
   "execution_count": 19,
   "id": "a9766e38",
   "metadata": {},
   "outputs": [
    {
     "name": "stdout",
     "output_type": "stream",
     "text": [
      "\n",
      "Drift Detected: True\n",
      "Drifted Columns: ['category', 'subcategory']\n",
      "Drift Scores:\n",
      "  product_id: {'algorithm': 'ks', 'pvalue': 0.9999973899930293, 'statistic': 0.0012616820453279498, 'thresholds': {'NO_DRIFT': (0.15, 1), 'POSSIBLE_DRIFT': (0.05, 0.15), 'DRIFT': (0, 0.05)}, 'drift_category': 'NO_DRIFT'}\n",
      "  product_name: {'algorithm': 'chi-square', 'pvalue': 1.0, 'statistic': 0.0, 'thresholds': {'NO_DRIFT': (0.15, 1), 'POSSIBLE_DRIFT': (0.05, 0.15), 'DRIFT': (0, 0.05)}, 'drift_category': 'NO_DRIFT'}\n",
      "  description: {'algorithm': 'chi-square', 'pvalue': 1.0, 'statistic': 0.0, 'thresholds': {'NO_DRIFT': (0.15, 1), 'POSSIBLE_DRIFT': (0.05, 0.15), 'DRIFT': (0, 0.05)}, 'drift_category': 'NO_DRIFT'}\n",
      "  category: {'algorithm': 'chi-square', 'pvalue': 0.0, 'statistic': inf, 'thresholds': {'NO_DRIFT': (0.15, 1), 'POSSIBLE_DRIFT': (0.05, 0.15), 'DRIFT': (0, 0.05)}, 'drift_category': 'DRIFT'}\n",
      "  subcategory: {'algorithm': 'chi-square', 'pvalue': 0.0, 'statistic': inf, 'thresholds': {'NO_DRIFT': (0.15, 1), 'POSSIBLE_DRIFT': (0.05, 0.15), 'DRIFT': (0, 0.05)}, 'drift_category': 'DRIFT'}\n",
      "  subsubcategory: {'algorithm': 'chi-square', 'pvalue': 1.0, 'statistic': 0.0, 'thresholds': {'NO_DRIFT': (0.15, 1), 'POSSIBLE_DRIFT': (0.05, 0.15), 'DRIFT': (0, 0.05)}, 'drift_category': 'NO_DRIFT'}\n",
      "  supplier: {'algorithm': 'chi-square', 'pvalue': 1.0, 'statistic': 0.0, 'thresholds': {'NO_DRIFT': (0.15, 1), 'POSSIBLE_DRIFT': (0.05, 0.15), 'DRIFT': (0, 0.05)}, 'drift_category': 'NO_DRIFT'}\n",
      "  country: {'algorithm': 'chi-square', 'pvalue': 1.0, 'statistic': 0.0, 'thresholds': {'NO_DRIFT': (0.15, 1), 'POSSIBLE_DRIFT': (0.05, 0.15), 'DRIFT': (0, 0.05)}, 'drift_category': 'NO_DRIFT'}\n",
      "  state: {'algorithm': 'chi-square', 'pvalue': 1.0, 'statistic': 26.000015579721435, 'thresholds': {'NO_DRIFT': (0.15, 1), 'POSSIBLE_DRIFT': (0.05, 0.15), 'DRIFT': (0, 0.05)}, 'drift_category': 'NO_DRIFT'}\n",
      "  city: {'algorithm': 'chi-square', 'pvalue': 1.0, 'statistic': 0.00035341933203746247, 'thresholds': {'NO_DRIFT': (0.15, 1), 'POSSIBLE_DRIFT': (0.05, 0.15), 'DRIFT': (0, 0.05)}, 'drift_category': 'NO_DRIFT'}\n"
     ]
    }
   ],
   "source": [
    "# Run the drift detector; adjust 'with_thresholds' as needed for your testing.\n",
    "drift_detected, drift_scores, drifted_columns = check_drift_against_reference(\n",
    "    new_profile_view=profile_new,\n",
    "    reference_profile_view=profile_ref,\n",
    "    with_thresholds=True  # Toggle to True if using thresholds\n",
    ")\n",
    "\n",
    "print(\"\\nDrift Detected:\", drift_detected)\n",
    "print(\"Drifted Columns:\", drifted_columns)\n",
    "print(\"Drift Scores:\")\n",
    "for col, metrics in drift_scores.items():\n",
    "    print(f\"  {col}: {metrics}\")\n"
   ]
  },
  {
   "cell_type": "code",
   "execution_count": null,
   "id": "0114acb1",
   "metadata": {},
   "outputs": [],
   "source": []
  }
 ],
 "metadata": {
  "kernelspec": {
   "display_name": "py310_env",
   "language": "python",
   "name": "python3"
  },
  "language_info": {
   "codemirror_mode": {
    "name": "ipython",
    "version": 3
   },
   "file_extension": ".py",
   "mimetype": "text/x-python",
   "name": "python",
   "nbconvert_exporter": "python",
   "pygments_lexer": "ipython3",
   "version": "3.10.16"
  }
 },
 "nbformat": 4,
 "nbformat_minor": 5
}
